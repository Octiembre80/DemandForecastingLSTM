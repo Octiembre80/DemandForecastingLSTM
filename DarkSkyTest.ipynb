{
 "cells": [
  {
   "cell_type": "code",
   "execution_count": 226,
   "metadata": {},
   "outputs": [],
   "source": [
    "from darksky import forecast\n",
    "import datetime\n",
    "from datetime import date, timedelta\n",
    "import numpy as np"
   ]
  },
  {
   "cell_type": "code",
   "execution_count": 219,
   "metadata": {},
   "outputs": [],
   "source": [
    "api_key = 'e3ea2aad62faffa61ec8b01f12268568'"
   ]
  },
  {
   "cell_type": "code",
   "execution_count": 220,
   "metadata": {},
   "outputs": [],
   "source": [
    "# Start and end date of dataset\n",
    "start_date = (date(2018,4,16) - timedelta(weeks=8*52))  # (4-26-2010)\n",
    "end_date = date(2018,4,16)  # (4-17-2010)\n",
    "\n",
    "# Create list of all dates in date range\n",
    "range_len = (end_date - start_date).days + 1\n",
    "dates = start_date + np.arange(range_len) * datetime.timedelta(days=1)\n",
    "dates_iso = [date.isoformat() + 'T12:00:00' for date in dates]"
   ]
  },
  {
   "cell_type": "code",
   "execution_count": 193,
   "metadata": {},
   "outputs": [],
   "source": [
    "# Locations\n",
    "BOSTON = api_key, 42.3601, -71.0589"
   ]
  },
  {
   "cell_type": "code",
   "execution_count": 221,
   "metadata": {},
   "outputs": [],
   "source": [
    "boston = forecast(*BOSTON, time=dates_iso[0])\n",
    "data = boston['hourly']['data']  # Day 0\n",
    "\n",
    "boston = forecast(*BOSTON, time=dates_iso[1])\n",
    "data1 = boston['hourly']['data']  # Day 1"
   ]
  },
  {
   "cell_type": "code",
   "execution_count": 222,
   "metadata": {},
   "outputs": [
    {
     "data": {
      "text/plain": [
       "48"
      ]
     },
     "execution_count": 222,
     "metadata": {},
     "output_type": "execute_result"
    }
   ],
   "source": [
    "d = np.array([])\n",
    "d = np.append(d, data)\n",
    "d = np.append(d, data1)  \n",
    "len(d)  # d is now length 48 for 2 days"
   ]
  },
  {
   "cell_type": "code",
   "execution_count": 223,
   "metadata": {},
   "outputs": [
    {
     "data": {
      "text/plain": [
       "'America/New_York'"
      ]
     },
     "execution_count": 223,
     "metadata": {},
     "output_type": "execute_result"
    }
   ],
   "source": [
    "boston.timezone  # Check "
   ]
  },
  {
   "cell_type": "code",
   "execution_count": 224,
   "metadata": {},
   "outputs": [
    {
     "data": {
      "text/plain": [
       "1272340800"
      ]
     },
     "execution_count": 224,
     "metadata": {},
     "output_type": "execute_result"
    }
   ],
   "source": [
    "# Unix time (timezone ?)\n",
    "boston.hourly[0].time"
   ]
  },
  {
   "cell_type": "code",
   "execution_count": 225,
   "metadata": {},
   "outputs": [
    {
     "data": {
      "text/plain": [
       "{'apparentTemperature': 46.06,\n",
       " 'cloudCover': 0.97,\n",
       " 'dewPoint': 46,\n",
       " 'humidity': 0.92,\n",
       " 'icon': 'rain',\n",
       " 'precipIntensity': 0.0293,\n",
       " 'precipProbability': 0.87,\n",
       " 'precipType': 'rain',\n",
       " 'pressure': 992.86,\n",
       " 'summary': 'Light Rain',\n",
       " 'temperature': 48.32,\n",
       " 'time': 1272340800,\n",
       " 'visibility': 9.03,\n",
       " 'windBearing': 175,\n",
       " 'windSpeed': 5.3}"
      ]
     },
     "execution_count": 225,
     "metadata": {},
     "output_type": "execute_result"
    }
   ],
   "source": [
    "# All boston hourly date for hour 0\n",
    "boston['hourly']['data'][0]"
   ]
  }
 ],
 "metadata": {
  "kernelspec": {
   "display_name": "Python 3",
   "language": "python",
   "name": "python3"
  },
  "language_info": {
   "codemirror_mode": {
    "name": "ipython",
    "version": 3
   },
   "file_extension": ".py",
   "mimetype": "text/x-python",
   "name": "python",
   "nbconvert_exporter": "python",
   "pygments_lexer": "ipython3",
   "version": "3.6.1"
  }
 },
 "nbformat": 4,
 "nbformat_minor": 2
}
